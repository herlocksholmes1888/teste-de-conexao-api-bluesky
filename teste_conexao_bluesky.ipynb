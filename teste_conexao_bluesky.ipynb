{
  "nbformat": 4,
  "nbformat_minor": 0,
  "metadata": {
    "colab": {
      "provenance": [],
      "authorship_tag": "ABX9TyPMxhPWmij2J6MwxrxbKVm9",
      "include_colab_link": true
    },
    "kernelspec": {
      "name": "python3",
      "display_name": "Python 3"
    },
    "language_info": {
      "name": "python"
    }
  },
  "cells": [
    {
      "cell_type": "markdown",
      "metadata": {
        "id": "view-in-github",
        "colab_type": "text"
      },
      "source": [
        "<a href=\"https://colab.research.google.com/github/herlocksholmes1888/teste-de-conexao-api-bluesky/blob/main/teste_conexao_bluesky.ipynb\" target=\"_parent\"><img src=\"https://colab.research.google.com/assets/colab-badge.svg\" alt=\"Open In Colab\"/></a>"
      ]
    },
    {
      "cell_type": "code",
      "execution_count": null,
      "metadata": {
        "colab": {
          "base_uri": "https://localhost:8080/"
        },
        "id": "iZU3_eF3cfZp",
        "outputId": "cff3d91a-a0c6-4d38-b825-2bd8bd6b189f"
      },
      "outputs": [
        {
          "output_type": "stream",
          "name": "stdout",
          "text": [
            "Collecting atproto\n",
            "  Downloading atproto-0.0.54-py3-none-any.whl.metadata (14 kB)\n",
            "Requirement already satisfied: click<9,>=8.1.3 in /usr/local/lib/python3.10/dist-packages (from atproto) (8.1.7)\n",
            "Collecting cryptography<43,>=41.0.7 (from atproto)\n",
            "  Downloading cryptography-42.0.8-cp39-abi3-manylinux_2_28_x86_64.whl.metadata (5.3 kB)\n",
            "Collecting dnspython<3,>=2.4.0 (from atproto)\n",
            "  Downloading dnspython-2.6.1-py3-none-any.whl.metadata (5.8 kB)\n",
            "Collecting httpx<0.27.0,>=0.25.0 (from atproto)\n",
            "  Downloading httpx-0.26.0-py3-none-any.whl.metadata (7.6 kB)\n",
            "Collecting libipld<3.0.0,>=2.0.0 (from atproto)\n",
            "  Downloading libipld-2.0.0-cp310-cp310-manylinux_2_17_x86_64.manylinux2014_x86_64.whl.metadata (3.6 kB)\n",
            "Requirement already satisfied: pydantic<3,>=2.7 in /usr/local/lib/python3.10/dist-packages (from atproto) (2.9.2)\n",
            "Requirement already satisfied: typing-extensions<5,>=4.8.0 in /usr/local/lib/python3.10/dist-packages (from atproto) (4.12.2)\n",
            "Collecting websockets<14,>=12 (from atproto)\n",
            "  Downloading websockets-13.0.1-cp310-cp310-manylinux_2_5_x86_64.manylinux1_x86_64.manylinux_2_17_x86_64.manylinux2014_x86_64.whl.metadata (6.7 kB)\n",
            "Requirement already satisfied: cffi>=1.12 in /usr/local/lib/python3.10/dist-packages (from cryptography<43,>=41.0.7->atproto) (1.17.1)\n",
            "Requirement already satisfied: anyio in /usr/local/lib/python3.10/dist-packages (from httpx<0.27.0,>=0.25.0->atproto) (3.7.1)\n",
            "Requirement already satisfied: certifi in /usr/local/lib/python3.10/dist-packages (from httpx<0.27.0,>=0.25.0->atproto) (2024.8.30)\n",
            "Collecting httpcore==1.* (from httpx<0.27.0,>=0.25.0->atproto)\n",
            "  Downloading httpcore-1.0.5-py3-none-any.whl.metadata (20 kB)\n",
            "Requirement already satisfied: idna in /usr/local/lib/python3.10/dist-packages (from httpx<0.27.0,>=0.25.0->atproto) (3.10)\n",
            "Requirement already satisfied: sniffio in /usr/local/lib/python3.10/dist-packages (from httpx<0.27.0,>=0.25.0->atproto) (1.3.1)\n",
            "Collecting h11<0.15,>=0.13 (from httpcore==1.*->httpx<0.27.0,>=0.25.0->atproto)\n",
            "  Downloading h11-0.14.0-py3-none-any.whl.metadata (8.2 kB)\n",
            "Requirement already satisfied: annotated-types>=0.6.0 in /usr/local/lib/python3.10/dist-packages (from pydantic<3,>=2.7->atproto) (0.7.0)\n",
            "Requirement already satisfied: pydantic-core==2.23.4 in /usr/local/lib/python3.10/dist-packages (from pydantic<3,>=2.7->atproto) (2.23.4)\n",
            "Requirement already satisfied: pycparser in /usr/local/lib/python3.10/dist-packages (from cffi>=1.12->cryptography<43,>=41.0.7->atproto) (2.22)\n",
            "Requirement already satisfied: exceptiongroup in /usr/local/lib/python3.10/dist-packages (from anyio->httpx<0.27.0,>=0.25.0->atproto) (1.2.2)\n",
            "Downloading atproto-0.0.54-py3-none-any.whl (315 kB)\n",
            "\u001b[2K   \u001b[90m━━━━━━━━━━━━━━━━━━━━━━━━━━━━━━━━━━━━━━━━\u001b[0m \u001b[32m315.6/315.6 kB\u001b[0m \u001b[31m5.2 MB/s\u001b[0m eta \u001b[36m0:00:00\u001b[0m\n",
            "\u001b[?25hDownloading cryptography-42.0.8-cp39-abi3-manylinux_2_28_x86_64.whl (3.9 MB)\n",
            "\u001b[2K   \u001b[90m━━━━━━━━━━━━━━━━━━━━━━━━━━━━━━━━━━━━━━━━\u001b[0m \u001b[32m3.9/3.9 MB\u001b[0m \u001b[31m29.8 MB/s\u001b[0m eta \u001b[36m0:00:00\u001b[0m\n",
            "\u001b[?25hDownloading dnspython-2.6.1-py3-none-any.whl (307 kB)\n",
            "\u001b[2K   \u001b[90m━━━━━━━━━━━━━━━━━━━━━━━━━━━━━━━━━━━━━━━━\u001b[0m \u001b[32m307.7/307.7 kB\u001b[0m \u001b[31m8.9 MB/s\u001b[0m eta \u001b[36m0:00:00\u001b[0m\n",
            "\u001b[?25hDownloading httpx-0.26.0-py3-none-any.whl (75 kB)\n",
            "\u001b[2K   \u001b[90m━━━━━━━━━━━━━━━━━━━━━━━━━━━━━━━━━━━━━━━━\u001b[0m \u001b[32m75.9/75.9 kB\u001b[0m \u001b[31m4.1 MB/s\u001b[0m eta \u001b[36m0:00:00\u001b[0m\n",
            "\u001b[?25hDownloading httpcore-1.0.5-py3-none-any.whl (77 kB)\n",
            "\u001b[2K   \u001b[90m━━━━━━━━━━━━━━━━━━━━━━━━━━━━━━━━━━━━━━━━\u001b[0m \u001b[32m77.9/77.9 kB\u001b[0m \u001b[31m4.6 MB/s\u001b[0m eta \u001b[36m0:00:00\u001b[0m\n",
            "\u001b[?25hDownloading libipld-2.0.0-cp310-cp310-manylinux_2_17_x86_64.manylinux2014_x86_64.whl (672 kB)\n",
            "\u001b[2K   \u001b[90m━━━━━━━━━━━━━━━━━━━━━━━━━━━━━━━━━━━━━━━━\u001b[0m \u001b[32m672.2/672.2 kB\u001b[0m \u001b[31m23.1 MB/s\u001b[0m eta \u001b[36m0:00:00\u001b[0m\n",
            "\u001b[?25hDownloading websockets-13.0.1-cp310-cp310-manylinux_2_5_x86_64.manylinux1_x86_64.manylinux_2_17_x86_64.manylinux2014_x86_64.whl (157 kB)\n",
            "\u001b[2K   \u001b[90m━━━━━━━━━━━━━━━━━━━━━━━━━━━━━━━━━━━━━━━━\u001b[0m \u001b[32m157.3/157.3 kB\u001b[0m \u001b[31m3.7 MB/s\u001b[0m eta \u001b[36m0:00:00\u001b[0m\n",
            "\u001b[?25hDownloading h11-0.14.0-py3-none-any.whl (58 kB)\n",
            "\u001b[2K   \u001b[90m━━━━━━━━━━━━━━━━━━━━━━━━━━━━━━━━━━━━━━━━\u001b[0m \u001b[32m58.3/58.3 kB\u001b[0m \u001b[31m4.4 MB/s\u001b[0m eta \u001b[36m0:00:00\u001b[0m\n",
            "\u001b[?25hInstalling collected packages: websockets, libipld, h11, dnspython, httpcore, cryptography, httpx, atproto\n",
            "  Attempting uninstall: cryptography\n",
            "    Found existing installation: cryptography 43.0.1\n",
            "    Uninstalling cryptography-43.0.1:\n",
            "      Successfully uninstalled cryptography-43.0.1\n",
            "Successfully installed atproto-0.0.54 cryptography-42.0.8 dnspython-2.6.1 h11-0.14.0 httpcore-1.0.5 httpx-0.26.0 libipld-2.0.0 websockets-13.0.1\n"
          ]
        }
      ],
      "source": [
        "!pip install atproto"
      ]
    },
    {
      "cell_type": "code",
      "source": [
        "from atproto import Client\n",
        "from google.colab import userdata\n",
        "\n",
        "client = Client(base_url=\"https://bsky.social\")\n",
        "password = userdata.get('BLUESKY_APP_PASSWORD')\n",
        "client.login('herlocksholmes1888.bsky.social', password)"
      ],
      "metadata": {
        "colab": {
          "base_uri": "https://localhost:8080/"
        },
        "id": "lOLGjHSBcrxu",
        "outputId": "189c416b-1991-4aad-aae0-2800d7f2faae"
      },
      "execution_count": 28,
      "outputs": [
        {
          "output_type": "execute_result",
          "data": {
            "text/plain": [
              "ProfileViewDetailed(did='did:plc:36veuqyukbkood4pf6xghqis', handle='herlocksholmes1888.bsky.social', associated=ProfileAssociated(chat=None, feedgens=0, labeler=False, lists=0, starter_packs=0, py_type='app.bsky.actor.defs#profileAssociated'), avatar='https://cdn.bsky.app/img/avatar/plain/did:plc:36veuqyukbkood4pf6xghqis/bafkreibblubrjawu7ocwmgabknoiwn6o65wkxhgwuflgw54xo5kctwuhca@jpeg', banner=None, created_at='2024-09-18T20:31:41.708Z', description='Cientista da Computação, poliglota, e defensora #1 da Fujiko Mine', display_name='Luisa Lopes', followers_count=6, follows_count=17, indexed_at='2024-09-18T20:38:20.809Z', joined_via_starter_pack=None, labels=[], posts_count=5, viewer=ViewerState(blocked_by=False, blocking=None, blocking_by_list=None, followed_by=None, following=None, known_followers=KnownFollowers(count=1, followers=[ProfileViewBasic(did='did:plc:d2wxxrx343enyau2c23ejcce', handle='francistortie.bsky.social', associated=ProfileAssociated(chat=ProfileAssociatedChat(allow_incoming='following', py_type='app.bsky.actor.defs#profileAssociatedChat'), feedgens=None, labeler=None, lists=None, starter_packs=None, py_type='app.bsky.actor.defs#profileAssociated'), avatar='https://cdn.bsky.app/img/avatar/plain/did:plc:d2wxxrx343enyau2c23ejcce/bafkreibrrhqfb5nowz3hdziz3t3ahr6dlkwgovr2rbemc6y4cvzp3vyvya@jpeg', created_at='2024-09-05T16:17:20.832Z', display_name='fran ♡ 🏳️\\u200d⚧️🇵🇸', labels=[], viewer=ViewerState(blocked_by=False, blocking=None, blocking_by_list=None, followed_by='at://did:plc:d2wxxrx343enyau2c23ejcce/app.bsky.graph.follow/3l4hiabq4252c', following='at://did:plc:36veuqyukbkood4pf6xghqis/app.bsky.graph.follow/3l4hhytgz4m2w', known_followers=None, muted=False, muted_by_list=None, py_type='app.bsky.actor.defs#viewerState'), py_type='app.bsky.actor.defs#profileViewBasic')], py_type='app.bsky.actor.defs#knownFollowers'), muted=False, muted_by_list=None, py_type='app.bsky.actor.defs#viewerState'), py_type='app.bsky.actor.defs#profileViewDetailed')"
            ]
          },
          "metadata": {},
          "execution_count": 28
        }
      ]
    },
    {
      "cell_type": "code",
      "source": [
        "post = client.send_post(\"Eu não aguento mais não conseguir criar um dataset bom, que ódio\")"
      ],
      "metadata": {
        "id": "aW9RYbsPfDPu"
      },
      "execution_count": 29,
      "outputs": []
    }
  ]
}